{
 "cells": [
  {
   "cell_type": "code",
   "execution_count": 1,
   "metadata": {},
   "outputs": [],
   "source": [
    "import pandas as pd\n",
    "import numpy as np"
   ]
  },
  {
   "cell_type": "code",
   "execution_count": 2,
   "metadata": {},
   "outputs": [],
   "source": [
    "def maxlinenum(df):\n",
    "    #end = df.index.max()+1\n",
    "    end = df.shape[0]\n",
    "    return end"
   ]
  },
  {
   "cell_type": "code",
   "execution_count": null,
   "metadata": {},
   "outputs": [],
   "source": []
  },
  {
   "cell_type": "code",
   "execution_count": 36,
   "metadata": {},
   "outputs": [],
   "source": [
    "filename = 'F:/数据处理/singleVariety/'+'01'+'Labeled'+'.csv'\n",
    "#filename = 'H:/BYK/Spectra/02/averspectra-1-3.csv'\n",
    "df = pd.read_csv(filename,header=None)\n",
    "df.head()\n",
    "a1 = df[(df.iloc[:,350]==1)].shape[0]\n",
    "a2 = df[(df.iloc[:,350]==2)].shape[0]\n",
    "a3 = df[(df.iloc[:,350]==3)].shape[0]\n",
    "a4 = df[(df.iloc[:,350]==4)].shape[0]"
   ]
  },
  {
   "cell_type": "code",
   "execution_count": null,
   "metadata": {},
   "outputs": [],
   "source": []
  },
  {
   "cell_type": "code",
   "execution_count": 26,
   "metadata": {},
   "outputs": [
    {
     "name": "stdout",
     "output_type": "stream",
     "text": [
      "0 45 30\n",
      "46 105 38\n",
      "106 147 26\n",
      "148 189 26\n"
     ]
    }
   ],
   "source": [
    "a = a1+a2\n",
    "b = a1+a2+a3\n",
    "c = df.shape[0]\n",
    "begin = [0,a1+1,a+1,b+1]\n",
    "end = [a1,a,b,c]\n",
    "\n",
    "for i,j in zip(begin,end):\n",
    "    third = (j-i)//3*2\n",
    "    print(i,j,third)\n"
   ]
  },
  {
   "cell_type": "code",
   "execution_count": 43,
   "metadata": {},
   "outputs": [],
   "source": [
    "filename = 'F:/数据处理/singleVariety/'+'01'+'Labeled'+'.csv'\n",
    "df = pd.read_csv(filename,header=None)\n",
    "for i,j in zip(begin,end):\n",
    "    third = (j-i)//3*2\n",
    "    third_ = i+third\n",
    "    df_train = df.iloc[i:third_,:]\n",
    "    df_train.to_csv('F:/数据处理/singleVariety/' + '/Split/' + 'trainingset.csv', mode='a', header=False, index=None)\n",
    "    df_prediction = df.iloc[third_:j,:]\n",
    "    df_prediction.to_csv('F:/数据处理/singleVariety/'+'/Split/'+'predset.csv', mode='a', header=False,index=None)\n",
    " "
   ]
  },
  {
   "cell_type": "code",
   "execution_count": null,
   "metadata": {},
   "outputs": [],
   "source": []
  },
  {
   "cell_type": "code",
   "execution_count": null,
   "metadata": {},
   "outputs": [],
   "source": [
    "file = ['01','22','03','04']\n",
    "for H1 in file:\n",
    "\n",
    "    #filename = ['H:/BYK/Spectra/',fold, '/averspectra- ', str(H1), '-', str(H2), '.csv']  #这种结果是list\n",
    "    filename = 'F:/数据处理/singleVariety/'+H1+'Labeled'+'.csv'\n",
    "    #filename = 'H:/BYK/Spectra/02/averspectra-1-3.csv'\n",
    "    df = pd.read_csv(filename,header=None)\n",
    "    end = maxlinenum(df)\n",
    "    num = end//3*2\n",
    "    df_train = df.iloc[0:num,:]\n",
    "    df_train.to_csv('E:/kmeans/' + '/Split/' + 'trainingset.csv', mode='a', header=False, index=None)\n",
    "    df_prediction = df.iloc[num+1:,:]\n",
    "    df_prediction.to_csv('E:/kmeans/'+'/Split/'+'predset.csv', mode='a', header=False,index=None)\n",
    "    df = None"
   ]
  }
 ],
 "metadata": {
  "kernelspec": {
   "display_name": "Python 3",
   "language": "python",
   "name": "python3"
  },
  "language_info": {
   "codemirror_mode": {
    "name": "ipython",
    "version": 3
   },
   "file_extension": ".py",
   "mimetype": "text/x-python",
   "name": "python",
   "nbconvert_exporter": "python",
   "pygments_lexer": "ipython3",
   "version": "3.5.0"
  }
 },
 "nbformat": 4,
 "nbformat_minor": 2
}
