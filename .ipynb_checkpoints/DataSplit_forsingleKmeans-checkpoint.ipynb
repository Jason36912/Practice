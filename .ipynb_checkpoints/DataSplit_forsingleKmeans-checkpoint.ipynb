{
 "cells": [
  {
   "cell_type": "code",
   "execution_count": 1,
   "metadata": {},
   "outputs": [],
   "source": [
    "import pandas as pd"
   ]
  },
  {
   "cell_type": "code",
   "execution_count": 2,
   "metadata": {},
   "outputs": [],
   "source": [
    "def maxlinenum(df):\n",
    "    #end = df.index.max()+1\n",
    "    end = df.shape[0]\n",
    "    return end"
   ]
  },
  {
   "cell_type": "code",
   "execution_count": 3,
   "metadata": {},
   "outputs": [
    {
     "data": {
      "text/plain": [
       "22"
      ]
     },
     "execution_count": 3,
     "metadata": {},
     "output_type": "execute_result"
    }
   ],
   "source": [
    "34//3*2"
   ]
  },
  {
   "cell_type": "code",
   "execution_count": 9,
   "metadata": {
    "scrolled": true
   },
   "outputs": [
    {
     "data": {
      "text/html": [
       "<div>\n",
       "<style scoped>\n",
       "    .dataframe tbody tr th:only-of-type {\n",
       "        vertical-align: middle;\n",
       "    }\n",
       "\n",
       "    .dataframe tbody tr th {\n",
       "        vertical-align: top;\n",
       "    }\n",
       "\n",
       "    .dataframe thead th {\n",
       "        text-align: right;\n",
       "    }\n",
       "</style>\n",
       "<table border=\"1\" class=\"dataframe\">\n",
       "  <thead>\n",
       "    <tr style=\"text-align: right;\">\n",
       "      <th></th>\n",
       "      <th>0</th>\n",
       "      <th>1</th>\n",
       "      <th>2</th>\n",
       "      <th>3</th>\n",
       "      <th>4</th>\n",
       "      <th>5</th>\n",
       "      <th>6</th>\n",
       "      <th>7</th>\n",
       "      <th>8</th>\n",
       "      <th>9</th>\n",
       "      <th>...</th>\n",
       "      <th>340</th>\n",
       "      <th>341</th>\n",
       "      <th>342</th>\n",
       "      <th>343</th>\n",
       "      <th>344</th>\n",
       "      <th>345</th>\n",
       "      <th>346</th>\n",
       "      <th>347</th>\n",
       "      <th>348</th>\n",
       "      <th>349</th>\n",
       "    </tr>\n",
       "  </thead>\n",
       "  <tbody>\n",
       "    <tr>\n",
       "      <th>6</th>\n",
       "      <td>0.12975</td>\n",
       "      <td>0.13114</td>\n",
       "      <td>0.13353</td>\n",
       "      <td>0.13677</td>\n",
       "      <td>0.14078</td>\n",
       "      <td>0.14531</td>\n",
       "      <td>0.15019</td>\n",
       "      <td>0.15523</td>\n",
       "      <td>0.16035</td>\n",
       "      <td>0.16528</td>\n",
       "      <td>...</td>\n",
       "      <td>0.41484</td>\n",
       "      <td>0.41461</td>\n",
       "      <td>0.41435</td>\n",
       "      <td>0.41405</td>\n",
       "      <td>0.41377</td>\n",
       "      <td>0.41347</td>\n",
       "      <td>0.41319</td>\n",
       "      <td>0.41290</td>\n",
       "      <td>0.41268</td>\n",
       "      <td>0.41248</td>\n",
       "    </tr>\n",
       "    <tr>\n",
       "      <th>7</th>\n",
       "      <td>0.13331</td>\n",
       "      <td>0.13461</td>\n",
       "      <td>0.13681</td>\n",
       "      <td>0.13975</td>\n",
       "      <td>0.14333</td>\n",
       "      <td>0.14735</td>\n",
       "      <td>0.15165</td>\n",
       "      <td>0.15604</td>\n",
       "      <td>0.16039</td>\n",
       "      <td>0.16469</td>\n",
       "      <td>...</td>\n",
       "      <td>0.41865</td>\n",
       "      <td>0.41847</td>\n",
       "      <td>0.41822</td>\n",
       "      <td>0.41798</td>\n",
       "      <td>0.41774</td>\n",
       "      <td>0.41750</td>\n",
       "      <td>0.41732</td>\n",
       "      <td>0.41717</td>\n",
       "      <td>0.41700</td>\n",
       "      <td>0.41681</td>\n",
       "    </tr>\n",
       "  </tbody>\n",
       "</table>\n",
       "<p>2 rows × 350 columns</p>\n",
       "</div>"
      ],
      "text/plain": [
       "       0        1        2        3        4        5        6        7    \\\n",
       "6  0.12975  0.13114  0.13353  0.13677  0.14078  0.14531  0.15019  0.15523   \n",
       "7  0.13331  0.13461  0.13681  0.13975  0.14333  0.14735  0.15165  0.15604   \n",
       "\n",
       "       8        9    ...      340      341      342      343      344  \\\n",
       "6  0.16035  0.16528  ...  0.41484  0.41461  0.41435  0.41405  0.41377   \n",
       "7  0.16039  0.16469  ...  0.41865  0.41847  0.41822  0.41798  0.41774   \n",
       "\n",
       "       345      346      347      348      349  \n",
       "6  0.41347  0.41319  0.41290  0.41268  0.41248  \n",
       "7  0.41750  0.41732  0.41717  0.41700  0.41681  \n",
       "\n",
       "[2 rows x 350 columns]"
      ]
     },
     "execution_count": 9,
     "metadata": {},
     "output_type": "execute_result"
    }
   ],
   "source": [
    "data = pd.read_csv('F:\\\\数据处理\\\\singleVariety\\\\kmeans\\\\01\\\\BYK\\\\1.csv',header=None)\n",
    "#data.iloc[0:6,:]  \n",
    "data.iloc[6:,:]"
   ]
  },
  {
   "cell_type": "code",
   "execution_count": 14,
   "metadata": {},
   "outputs": [
    {
     "data": {
      "text/plain": [
       "5"
      ]
     },
     "execution_count": 14,
     "metadata": {},
     "output_type": "execute_result"
    }
   ],
   "source": [
    "round(data.shape[0]/3*2)"
   ]
  },
  {
   "cell_type": "code",
   "execution_count": 24,
   "metadata": {},
   "outputs": [],
   "source": [
    "variety = '01'\n",
    "file = ['1','2']\n",
    "for H1 in file:\n",
    "\n",
    "    #filename = ['H:/BYK/Spectra/',fold, '/averspectra- ', str(H1), '-', str(H2), '.csv']  #这种结果是list\n",
    "    filename = 'F:/数据处理/singleVariety/kmeans/'+ variety+'/'+H1+'.csv'\n",
    "    #filename = 'H:/BYK/Spectra/02/averspectra-1-3.csv'\n",
    "    df = pd.read_csv(filename,header=None)\n",
    "    end = maxlinenum(df)\n",
    "    num = end//3*2 - 1\n",
    "    df_train = df.iloc[0:num,:]\n",
    "    df_train.to_csv('F:/数据处理/singleVariety/kmeans/'+ variety+'/'+ 'trainingset.csv', mode='a', header=None, index=None)\n",
    "    df_prediction = df.iloc[num:,:] # 这里需要与上面的num保持一致，否则会丢失一条数据！！！！\n",
    "    df_prediction.to_csv('F:/数据处理/singleVariety/kmeans/'+ variety+'/'+'predset.csv', mode='a', header=None,index=None)"
   ]
  },
  {
   "cell_type": "code",
   "execution_count": 9,
   "metadata": {},
   "outputs": [],
   "source": [
    "variety = '01'\n",
    "file = ['1','2']\n",
    "for H1 in file:\n",
    "\n",
    "    #filename = ['H:/BYK/Spectra/',fold, '/averspectra- ', str(H1), '-', str(H2), '.csv']  #这种结果是list\n",
    "    filename = 'F:/数据处理/singleVariety/kmeans/'+ variety+'/'+H1+'.csv'\n",
    "    #filename = 'H:/BYK/Spectra/02/averspectra-1-3.csv'\n",
    "    df = pd.read_csv(filename,header=None)\n",
    "    end = maxlinenum(df)\n",
    "    num = end//3*2\n",
    "    df_train = df.iloc[0:num-1,:]\n",
    "    df_train.to_csv('F:/数据处理/singleVariety/kmeans/'+ variety+'/'+ 'trainingset.csv', mode='a', header=None, index=None)\n",
    "    df_prediction = df.iloc[num:,:]\n",
    "    df_prediction.to_csv('F:/数据处理/singleVariety/kmeans/'+ variety+'/'+'predset.csv', mode='a', header=None,index=None)"
   ]
  },
  {
   "cell_type": "code",
   "execution_count": null,
   "metadata": {},
   "outputs": [],
   "source": [
    "#variety = ['01','02','03','04']\n",
    "variety = '01'\n",
    "file = ['1','2','3','4','5']\n",
    "for H1 in file:\n",
    "\n",
    "    #filename = ['H:/BYK/Spectra/',fold, '/averspectra- ', str(H1), '-', str(H2), '.csv']  #这种结果是list\n",
    "    filename = 'F:/数据处理/singleVariety/kmeans/'+ variety+'/'+H1+'.csv'\n",
    "    #filename = 'H:/BYK/Spectra/02/averspectra-1-3.csv'\n",
    "    df = pd.read_csv(filename,header=None)\n",
    "    end = maxlinenum(df)\n",
    "    num = end//3*2\n",
    "    df_train = df.iloc[0:num-1,:]\n",
    "    df_train.to_csv('F:/数据处理/singleVariety/kmeans/'+ variety+'/'+ 'trainingset.csv', mode='a', header=None, index=None)\n",
    "    df_prediction = df.iloc[num:,:]\n",
    "     df_prediction.to_csv('F:/数据处理/singleVariety/kmeans/'+ variety+'/'+'predset.csv', mode='a', header=None,index=None)"
   ]
  }
 ],
 "metadata": {
  "kernelspec": {
   "display_name": "Python 3",
   "language": "python",
   "name": "python3"
  },
  "language_info": {
   "codemirror_mode": {
    "name": "ipython",
    "version": 3
   },
   "file_extension": ".py",
   "mimetype": "text/x-python",
   "name": "python",
   "nbconvert_exporter": "python",
   "pygments_lexer": "ipython3",
   "version": "3.5.0"
  }
 },
 "nbformat": 4,
 "nbformat_minor": 2
}
