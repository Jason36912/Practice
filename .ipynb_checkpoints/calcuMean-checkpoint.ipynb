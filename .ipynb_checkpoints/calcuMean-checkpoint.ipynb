{
 "cells": [
  {
   "cell_type": "code",
   "execution_count": 2,
   "metadata": {},
   "outputs": [
    {
     "data": {
      "text/plain": [
       "(45, 350)"
      ]
     },
     "execution_count": 2,
     "metadata": {},
     "output_type": "execute_result"
    }
   ],
   "source": [
    "import pandas as pd\n",
    "\n",
    "variety = '01'\n",
    "diseasetype = ['CK','WKB','DWB','BYK']\n",
    "\n",
    "\n",
    "df.shape"
   ]
  },
  {
   "cell_type": "code",
   "execution_count": 16,
   "metadata": {
    "scrolled": true
   },
   "outputs": [],
   "source": [
    "objectfile = 'E:/EXPERIMENT/SGmethod/'+variety+'mean.csv'\n",
    "\n",
    "df_mean = df.mean(axis=0) #按列求平\n",
    "for ty in diseasetype:\n",
    "    filename = 'F:/数据处理/原始分散数据/'+ty+'avg'+variety+'.csv'\n",
    "    df = pd.read_csv(filename,header=None)\n",
    "    df_mean = df.mean(axis=0) #按列求平均\n",
    "    df_mean_t = pd.DataFrame(df_mean).T #实现转置为行，否则存储为了一列\n",
    "    df_mean_t.to_csv(objectfile,mode='a', header=False, index=None)  "
   ]
  },
  {
   "cell_type": "code",
   "execution_count": 15,
   "metadata": {},
   "outputs": [
    {
     "data": {
      "text/html": [
       "<div>\n",
       "<style scoped>\n",
       "    .dataframe tbody tr th:only-of-type {\n",
       "        vertical-align: middle;\n",
       "    }\n",
       "\n",
       "    .dataframe tbody tr th {\n",
       "        vertical-align: top;\n",
       "    }\n",
       "\n",
       "    .dataframe thead th {\n",
       "        text-align: right;\n",
       "    }\n",
       "</style>\n",
       "<table border=\"1\" class=\"dataframe\">\n",
       "  <thead>\n",
       "    <tr style=\"text-align: right;\">\n",
       "      <th></th>\n",
       "      <th>0</th>\n",
       "      <th>1</th>\n",
       "      <th>2</th>\n",
       "      <th>3</th>\n",
       "      <th>4</th>\n",
       "      <th>5</th>\n",
       "      <th>6</th>\n",
       "      <th>7</th>\n",
       "      <th>8</th>\n",
       "      <th>9</th>\n",
       "      <th>...</th>\n",
       "      <th>340</th>\n",
       "      <th>341</th>\n",
       "      <th>342</th>\n",
       "      <th>343</th>\n",
       "      <th>344</th>\n",
       "      <th>345</th>\n",
       "      <th>346</th>\n",
       "      <th>347</th>\n",
       "      <th>348</th>\n",
       "      <th>349</th>\n",
       "    </tr>\n",
       "  </thead>\n",
       "  <tbody>\n",
       "    <tr>\n",
       "      <th>0</th>\n",
       "      <td>0.097435</td>\n",
       "      <td>0.098689</td>\n",
       "      <td>0.100853</td>\n",
       "      <td>0.103832</td>\n",
       "      <td>0.107519</td>\n",
       "      <td>0.111758</td>\n",
       "      <td>0.116334</td>\n",
       "      <td>0.121099</td>\n",
       "      <td>0.125916</td>\n",
       "      <td>0.130696</td>\n",
       "      <td>...</td>\n",
       "      <td>0.504055</td>\n",
       "      <td>0.503707</td>\n",
       "      <td>0.503369</td>\n",
       "      <td>0.503005</td>\n",
       "      <td>0.502631</td>\n",
       "      <td>0.502279</td>\n",
       "      <td>0.501962</td>\n",
       "      <td>0.501662</td>\n",
       "      <td>0.501411</td>\n",
       "      <td>0.501168</td>\n",
       "    </tr>\n",
       "  </tbody>\n",
       "</table>\n",
       "<p>1 rows × 350 columns</p>\n",
       "</div>"
      ],
      "text/plain": [
       "        0         1         2         3         4         5         6    \\\n",
       "0  0.097435  0.098689  0.100853  0.103832  0.107519  0.111758  0.116334   \n",
       "\n",
       "        7         8         9    ...       340       341       342       343  \\\n",
       "0  0.121099  0.125916  0.130696  ...  0.504055  0.503707  0.503369  0.503005   \n",
       "\n",
       "        344       345       346       347       348       349  \n",
       "0  0.502631  0.502279  0.501962  0.501662  0.501411  0.501168  \n",
       "\n",
       "[1 rows x 350 columns]"
      ]
     },
     "execution_count": 15,
     "metadata": {},
     "output_type": "execute_result"
    }
   ],
   "source": [
    "df_mean_t = pd.DataFrame(df_mean).T\n",
    "# df_mean_t.to_csv(objectfile,mode='a', header=False, index=None)\n",
    "df_mean_t"
   ]
  }
 ],
 "metadata": {
  "kernelspec": {
   "display_name": "Python 3",
   "language": "python",
   "name": "python3"
  },
  "language_info": {
   "codemirror_mode": {
    "name": "ipython",
    "version": 3
   },
   "file_extension": ".py",
   "mimetype": "text/x-python",
   "name": "python",
   "nbconvert_exporter": "python",
   "pygments_lexer": "ipython3",
   "version": "3.5.0"
  }
 },
 "nbformat": 4,
 "nbformat_minor": 2
}
