{
 "cells": [
  {
   "cell_type": "code",
   "execution_count": 1,
   "metadata": {},
   "outputs": [],
   "source": [
    "import pandas as pd"
   ]
  },
  {
   "cell_type": "code",
   "execution_count": null,
   "metadata": {},
   "outputs": [],
   "source": []
  },
  {
   "cell_type": "code",
   "execution_count": 4,
   "metadata": {
    "scrolled": true
   },
   "outputs": [
    {
     "data": {
      "text/html": [
       "<div>\n",
       "<style scoped>\n",
       "    .dataframe tbody tr th:only-of-type {\n",
       "        vertical-align: middle;\n",
       "    }\n",
       "\n",
       "    .dataframe tbody tr th {\n",
       "        vertical-align: top;\n",
       "    }\n",
       "\n",
       "    .dataframe thead th {\n",
       "        text-align: right;\n",
       "    }\n",
       "</style>\n",
       "<table border=\"1\" class=\"dataframe\">\n",
       "  <thead>\n",
       "    <tr style=\"text-align: right;\">\n",
       "      <th></th>\n",
       "      <th>0</th>\n",
       "      <th>1</th>\n",
       "      <th>2</th>\n",
       "      <th>3</th>\n",
       "      <th>4</th>\n",
       "      <th>5</th>\n",
       "      <th>6</th>\n",
       "      <th>7</th>\n",
       "      <th>8</th>\n",
       "      <th>9</th>\n",
       "      <th>...</th>\n",
       "      <th>116</th>\n",
       "      <th>117</th>\n",
       "      <th>118</th>\n",
       "      <th>119</th>\n",
       "      <th>120</th>\n",
       "      <th>121</th>\n",
       "      <th>122</th>\n",
       "      <th>123</th>\n",
       "      <th>124</th>\n",
       "      <th>125</th>\n",
       "    </tr>\n",
       "  </thead>\n",
       "  <tbody>\n",
       "    <tr>\n",
       "      <th>0</th>\n",
       "      <td>0.942870</td>\n",
       "      <td>0.752420</td>\n",
       "      <td>0.822460</td>\n",
       "      <td>0.903910</td>\n",
       "      <td>0.96375</td>\n",
       "      <td>0.95199</td>\n",
       "      <td>0.909610</td>\n",
       "      <td>0.833200</td>\n",
       "      <td>0.621190</td>\n",
       "      <td>0.930400</td>\n",
       "      <td>...</td>\n",
       "      <td>0.015918</td>\n",
       "      <td>0.15839</td>\n",
       "      <td>-0.028318</td>\n",
       "      <td>0.093074</td>\n",
       "      <td>0.64637</td>\n",
       "      <td>0.45708</td>\n",
       "      <td>0.324710</td>\n",
       "      <td>0.21617</td>\n",
       "      <td>0.175540</td>\n",
       "      <td>-0.239240</td>\n",
       "    </tr>\n",
       "    <tr>\n",
       "      <th>1</th>\n",
       "      <td>-0.134370</td>\n",
       "      <td>0.085846</td>\n",
       "      <td>0.032677</td>\n",
       "      <td>0.077279</td>\n",
       "      <td>-0.13721</td>\n",
       "      <td>0.01954</td>\n",
       "      <td>-0.034145</td>\n",
       "      <td>-0.016139</td>\n",
       "      <td>-0.036564</td>\n",
       "      <td>0.042499</td>\n",
       "      <td>...</td>\n",
       "      <td>0.191460</td>\n",
       "      <td>0.29819</td>\n",
       "      <td>0.218340</td>\n",
       "      <td>0.193260</td>\n",
       "      <td>0.22274</td>\n",
       "      <td>0.14245</td>\n",
       "      <td>0.094114</td>\n",
       "      <td>-0.15567</td>\n",
       "      <td>-0.022125</td>\n",
       "      <td>-0.012553</td>\n",
       "    </tr>\n",
       "    <tr>\n",
       "      <th>2</th>\n",
       "      <td>0.107450</td>\n",
       "      <td>0.406550</td>\n",
       "      <td>0.155370</td>\n",
       "      <td>-0.052564</td>\n",
       "      <td>0.00244</td>\n",
       "      <td>-0.14985</td>\n",
       "      <td>0.019863</td>\n",
       "      <td>-0.007645</td>\n",
       "      <td>0.053832</td>\n",
       "      <td>0.149150</td>\n",
       "      <td>...</td>\n",
       "      <td>0.232910</td>\n",
       "      <td>0.19559</td>\n",
       "      <td>0.154740</td>\n",
       "      <td>0.278290</td>\n",
       "      <td>0.00443</td>\n",
       "      <td>0.14148</td>\n",
       "      <td>0.155080</td>\n",
       "      <td>0.19573</td>\n",
       "      <td>0.175540</td>\n",
       "      <td>0.146820</td>\n",
       "    </tr>\n",
       "    <tr>\n",
       "      <th>3</th>\n",
       "      <td>0.091282</td>\n",
       "      <td>-0.239790</td>\n",
       "      <td>-0.008887</td>\n",
       "      <td>0.074460</td>\n",
       "      <td>0.17484</td>\n",
       "      <td>0.17334</td>\n",
       "      <td>0.106540</td>\n",
       "      <td>0.185850</td>\n",
       "      <td>0.359740</td>\n",
       "      <td>-0.120910</td>\n",
       "      <td>...</td>\n",
       "      <td>0.562540</td>\n",
       "      <td>0.34895</td>\n",
       "      <td>0.658320</td>\n",
       "      <td>0.435040</td>\n",
       "      <td>0.11660</td>\n",
       "      <td>0.25621</td>\n",
       "      <td>0.423810</td>\n",
       "      <td>0.74294</td>\n",
       "      <td>0.666810</td>\n",
       "      <td>1.101500</td>\n",
       "    </tr>\n",
       "  </tbody>\n",
       "</table>\n",
       "<p>4 rows × 126 columns</p>\n",
       "</div>"
      ],
      "text/plain": [
       "        0         1         2         3        4        5         6    \\\n",
       "0  0.942870  0.752420  0.822460  0.903910  0.96375  0.95199  0.909610   \n",
       "1 -0.134370  0.085846  0.032677  0.077279 -0.13721  0.01954 -0.034145   \n",
       "2  0.107450  0.406550  0.155370 -0.052564  0.00244 -0.14985  0.019863   \n",
       "3  0.091282 -0.239790 -0.008887  0.074460  0.17484  0.17334  0.106540   \n",
       "\n",
       "        7         8         9    ...       116      117       118       119  \\\n",
       "0  0.833200  0.621190  0.930400  ...  0.015918  0.15839 -0.028318  0.093074   \n",
       "1 -0.016139 -0.036564  0.042499  ...  0.191460  0.29819  0.218340  0.193260   \n",
       "2 -0.007645  0.053832  0.149150  ...  0.232910  0.19559  0.154740  0.278290   \n",
       "3  0.185850  0.359740 -0.120910  ...  0.562540  0.34895  0.658320  0.435040   \n",
       "\n",
       "       120      121       122      123       124       125  \n",
       "0  0.64637  0.45708  0.324710  0.21617  0.175540 -0.239240  \n",
       "1  0.22274  0.14245  0.094114 -0.15567 -0.022125 -0.012553  \n",
       "2  0.00443  0.14148  0.155080  0.19573  0.175540  0.146820  \n",
       "3  0.11660  0.25621  0.423810  0.74294  0.666810  1.101500  \n",
       "\n",
       "[4 rows x 126 columns]"
      ]
     },
     "execution_count": 4,
     "metadata": {},
     "output_type": "execute_result"
    }
   ],
   "source": [
    "fold = 1\n",
    "OPtype = 'PCA'\n",
    "#filename = ['H:/BYK/Spectra/',fold, '/averspectra- ', str(H1), '-', str(H2), '.csv']  #这种结果是list\n",
    "filename = 'F:/RBFNN_whichcategory/RBFNN-'+OPtype+str(fold)+ '.csv'\n",
    "df = pd.read_csv(filename,header=None)\n",
    "df"
   ]
  },
  {
   "cell_type": "code",
   "execution_count": 25,
   "metadata": {},
   "outputs": [
    {
     "data": {
      "text/plain": [
       "126"
      ]
     },
     "execution_count": 25,
     "metadata": {},
     "output_type": "execute_result"
    }
   ],
   "source": [
    "maxcol = df.shape[1]\n",
    "maxcol"
   ]
  },
  {
   "cell_type": "code",
   "execution_count": 8,
   "metadata": {},
   "outputs": [
    {
     "data": {
      "text/plain": [
       "4"
      ]
     },
     "execution_count": 8,
     "metadata": {},
     "output_type": "execute_result"
    }
   ],
   "source": [
    "import numpy as np\n",
    "a = np.argmax(df.iloc[:,125])\n",
    "n = a+1\n",
    "n"
   ]
  },
  {
   "cell_type": "code",
   "execution_count": 23,
   "metadata": {},
   "outputs": [],
   "source": [
    "category = []\n",
    "result = pd.DataFrame()\n",
    "for i in range(126):\n",
    "    a = np.argmax(df.iloc[:,i])\n",
    "    n = a+1\n",
    "    category.append(n)\n",
    "result = result.append(category)\n",
    "result.to_csv('F:/RBFNN_whichcategory/'+OPtype+str(fold)+'result'+ '.csv',index=None,header=None)"
   ]
  },
  {
   "cell_type": "code",
   "execution_count": null,
   "metadata": {},
   "outputs": [],
   "source": [
    "\n",
    "\n",
    "for H1 in range(1,5,1):\n",
    "        fold = H1\n",
    "        OPtype = 'WKB'\n",
    "        #filename = ['H:/BYK/Spectra/',fold, '/averspectra- ', str(H1), '-', str(H2), '.csv']  #这种结果是list\n",
    "        filename = 'F:/RBFNN_whichcategory/RBFNN-/'+OPtype+str(fold)+ '.csv'\n",
    "        #filename = 'H:/BYK/Spectra/02/averspectra-1-3.csv'\n",
    "#         df = pd.read_csv(filename,header=None)\n",
    "#         df.to_csv('F:/数据处理/原始分散数据/'+leavetype+'avg'+'.csv', mode='a', header=False,index=None)\n",
    "#         df = None"
   ]
  }
 ],
 "metadata": {
  "kernelspec": {
   "display_name": "Python 3",
   "language": "python",
   "name": "python3"
  },
  "language_info": {
   "codemirror_mode": {
    "name": "ipython",
    "version": 3
   },
   "file_extension": ".py",
   "mimetype": "text/x-python",
   "name": "python",
   "nbconvert_exporter": "python",
   "pygments_lexer": "ipython3",
   "version": "3.5.0"
  }
 },
 "nbformat": 4,
 "nbformat_minor": 2
}
