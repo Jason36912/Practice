{
 "cells": [
  {
   "cell_type": "code",
   "execution_count": 21,
   "outputs": [
    {
     "data": {
      "text/plain": "  [ ] 付恭华, 王莹, 鄢帮有, 等. 生态农业与中国未来的粮食安全[J]. 农林经济管理学报, 2013, 12(3): 289-294.\n0  [ ] 郭鹏飞. 西安市化学农药安全使用现状与对策研究[D].杨凌: 西北农林科技大学.2014.                     \n1  [ ] 谢晨, 何雄奎, 宋坚利, 等. 两类扇形雾喷头雾化过程比较研究[J]. 农业工程学...                     \n2           [ ] 王宁堂. 生物农药的类型及使用方法[J].植物医生,2012,(25).                     \n3  [ ] 陈冬平, 徐汉虹, 刘牛. 欧盟和4个主要粮食生产国生物农药发展管控的差异[J]. ...                     \n4  [ ] Gupta S, Dikshit A K.  Biopesticides : An ...                     ",
      "text/html": "<div>\n<style scoped>\n    .dataframe tbody tr th:only-of-type {\n        vertical-align: middle;\n    }\n\n    .dataframe tbody tr th {\n        vertical-align: top;\n    }\n\n    .dataframe thead th {\n        text-align: right;\n    }\n</style>\n<table border=\"1\" class=\"dataframe\">\n  <thead>\n    <tr style=\"text-align: right;\">\n      <th></th>\n      <th>[ ] 付恭华, 王莹, 鄢帮有, 等. 生态农业与中国未来的粮食安全[J]. 农林经济管理学报, 2013, 12(3): 289-294.</th>\n    </tr>\n  </thead>\n  <tbody>\n    <tr>\n      <th>0</th>\n      <td>[ ] 郭鹏飞. 西安市化学农药安全使用现状与对策研究[D].杨凌: 西北农林科技大学.2014.</td>\n    </tr>\n    <tr>\n      <th>1</th>\n      <td>[ ] 谢晨, 何雄奎, 宋坚利, 等. 两类扇形雾喷头雾化过程比较研究[J]. 农业工程学...</td>\n    </tr>\n    <tr>\n      <th>2</th>\n      <td>[ ] 王宁堂. 生物农药的类型及使用方法[J].植物医生,2012,(25).</td>\n    </tr>\n    <tr>\n      <th>3</th>\n      <td>[ ] 陈冬平, 徐汉虹, 刘牛. 欧盟和4个主要粮食生产国生物农药发展管控的差异[J]. ...</td>\n    </tr>\n    <tr>\n      <th>4</th>\n      <td>[ ] Gupta S, Dikshit A K.  Biopesticides : An ...</td>\n    </tr>\n  </tbody>\n</table>\n</div>"
     },
     "metadata": {},
     "output_type": "execute_result",
     "execution_count": 21
    }
   ],
   "source": [
    "import pandas as pd\n",
    "df = pd.read_csv('E:\\\\植保srt\\\\2019读书报告\\\\literature.csv',encoding='gbk')\n",
    "df.head()\n",
    "for text in df.iloc[:,0]:\n",
    "    text.replace('[ ]','[]')\n",
    "df.head()"
   ],
   "metadata": {
    "collapsed": false,
    "pycharm": {
     "name": "#%%\n",
     "is_executing": false
    }
   }
  },
  {
   "cell_type": "code",
   "execution_count": null,
   "outputs": [],
   "source": [
    "\n"
   ],
   "metadata": {
    "collapsed": false,
    "pycharm": {
     "name": "#%%\n"
    }
   }
  }
 ],
 "metadata": {
  "kernelspec": {
   "display_name": "Python 3",
   "language": "python",
   "name": "python3"
  },
  "language_info": {
   "codemirror_mode": {
    "name": "ipython",
    "version": 2
   },
   "file_extension": ".py",
   "mimetype": "text/x-python",
   "name": "python",
   "nbconvert_exporter": "python",
   "pygments_lexer": "ipython2",
   "version": "2.7.6"
  },
  "pycharm": {
   "stem_cell": {
    "cell_type": "raw",
    "source": [],
    "metadata": {
     "collapsed": false
    }
   }
  }
 },
 "nbformat": 4,
 "nbformat_minor": 0
}